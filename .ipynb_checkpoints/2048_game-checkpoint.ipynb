{
 "cells": [
  {
   "cell_type": "code",
   "execution_count": 1,
   "id": "dccf26bb-6b7a-488b-bb74-1961112c3221",
   "metadata": {},
   "outputs": [],
   "source": [
    "import tkinter as tk\n",
    "import color as c\n",
    "from function import Function\n",
    "import numpy as np\n",
    "from random import random, randint, shuffle"
   ]
  },
  {
   "cell_type": "code",
   "execution_count": 2,
   "id": "df87af30-6ed6-4646-a55b-d966e0400691",
   "metadata": {},
   "outputs": [],
   "source": [
    "WIDTH_GRID = 600\n",
    "HEIGHT_GRID = 600\n",
    "PADY_GRID = 100\n",
    "CELL_COUNT = 4\n",
    "\n",
    "WIDTH_CELL = 150\n",
    "HEIGHT_CELL = 150\n",
    "\n",
    "CELL_PAD = 5\n"
   ]
  },
  {
   "cell_type": "code",
   "execution_count": 3,
   "id": "d10cbdd6-5411-455b-879f-bbb79fb61205",
   "metadata": {},
   "outputs": [],
   "source": [
    "class Game(tk.Frame):\n",
    "    def __init__(self, cols=4, rows=4):\n",
    "        tk.Frame.__init__(self)\n",
    "        self.grid()\n",
    "        \n",
    "        self.master.title(\"2048\")\n",
    "        self.main_grid = tk.Frame(\n",
    "            self, bg=c.GRID_COLOR, width=WIDTH_GRID, height=HEIGHT_GRID)\n",
    "        self.main_grid.grid(pady=(PADY_GRID,0))\n",
    "        self.rows = rows\n",
    "        self.cols = cols\n",
    "        self.flag = True\n",
    "        self.grid = np.array([])\n",
    "\n",
    "            \n",
    "        self.make_GUI()\n",
    "        self.start_game()\n",
    "        self.grid = self.get_state()\n",
    "        self.grid = self.create_state(self.grid)\n",
    "\n",
    "\n",
    "        self.master.bind(\"<Left>\", self.move(\"<Left>\"))\n",
    "        self.master.bind(\"<Right>\", self.move(\"<Right>\"))\n",
    "        self.master.bind(\"<Up>\", self.move(\"<Up>\"))\n",
    "        self.master.bind(\"<Down>\", self.move(\"<Down>\"))\n",
    "\n",
    "        self.mainloop()\n",
    "#         self.end = False\n",
    "        \n",
    "    def create_state(self, arr):\n",
    "        self.grid = arr\n",
    "        return self.grid\n",
    "\n",
    "        \n",
    "    def copy(self):\n",
    "        rtn = Game(self.grid.shape[0], self.grid.shape[1])\n",
    "        for i in range(self.grid.shape[0]):\n",
    "            for j in range(self.grid.shape[1]):\n",
    "                rtn.grid[i,j]=self.grid[i,j]\n",
    "        rtn.score = self.score\n",
    "        rtn.end = self.end\n",
    "        return rtn\n",
    "    \n",
    "    #Find the maximum value\n",
    "    def max(self):\n",
    "        m = 0\n",
    "        for i in range(self.grid.shape[0]):\n",
    "            for j in range(self.grid.shape[1]):\n",
    "                if self.grid[i,j]>m:\n",
    "                    m = self.grid[i,j]\n",
    "        return m\n",
    "    \n",
    "#     def move(self, direction):\n",
    "#         self.game_over()\n",
    "#         self.fc = Function(self.grid)\n",
    "#         if self.fc.prepare_next_turn():\n",
    "#             if direction == \"<Up>\":\n",
    "#                 self.grid = self.push_up()\n",
    "#             elif direction == \"<Down>\":\n",
    "#                 self.grid = self.push_down() \n",
    "#             elif direction == \"<Left>\":\n",
    "#                 self.grid = self.push_left()\n",
    "#             else:\n",
    "#                 self.grid = self.push_right()\n",
    "#         self.update_GUI()\n",
    "\n",
    "    \n",
    "\n",
    "    def get_state(self):\n",
    "        return self.grid\n",
    "    \n",
    "    def make_GUI(self):\n",
    "        #Make grid\n",
    "        self.cells = []\n",
    "        for i in range(CELL_COUNT):\n",
    "            row = []\n",
    "            for j in range(CELL_COUNT):\n",
    "                cell_frame = tk.Frame(\n",
    "                    self.main_grid,\n",
    "                    bg = c.EMPTY_CELL_COLOR,\n",
    "                    width=WIDTH_CELL,\n",
    "                    height=HEIGHT_CELL\n",
    "                )\n",
    "                cell_frame.grid(row=i, column=j, padx=CELL_PAD, pady=CELL_PAD)\n",
    "                cell_number = tk.Label(self.main_grid, bg=c.EMPTY_CELL_COLOR)\n",
    "                cell_number.grid(row=i, column=j)\n",
    "                cell_data = {\"frame\": cell_frame, \"number\": cell_number}\n",
    "                row.append(cell_data)\n",
    "            self.cells.append(row)\n",
    "        \n",
    "        #Make score header\n",
    "        score_frame = tk.Frame(self)\n",
    "        score_frame.place(relx=0.5, y=45, anchor=\"center\")\n",
    "        tk.Label(\n",
    "            score_frame,\n",
    "            text=\"Score\",\n",
    "            font=c.SCORE_LABEL_FONT\n",
    "        ).grid(row=0)\n",
    "        self.score_label = tk.Label(score_frame, text=\"0\", font=c.SCORE_FONT)\n",
    "        self.score_label.grid(row=1)\n",
    "        \n",
    "    def update_GUI(self):\n",
    "        for i in range(self.grid.shape[0]):\n",
    "            for j in range(self.grid.shape[1]):\n",
    "                cell_value = self.grid[i][j]\n",
    "                if cell_value == 0:\n",
    "                    self.cells[i][j][\"frame\"].configure(bg=c.EMPTY_CELL_COLOR)\n",
    "                    self.cells[i][j][\"number\"].configure(bg=c.EMPTY_CELL_COLOR, text=\"\")\n",
    "                else:\n",
    "                    self.cells[i][j][\"frame\"].configure(bg=c.CELL_COLORS[cell_value])\n",
    "                    self.cells[i][j][\"number\"].configure(\n",
    "                        bg=c.CELL_COLORS[cell_value],\n",
    "                        fg=c.CELL_NUMBER_COLORS[cell_value],\n",
    "                        font=c.CELL_NUMBER_FONTS[cell_value],\n",
    "                        text=str(cell_value)\n",
    "                    )\n",
    "#         self.score_label.configure(text=self.score)\n",
    "        self.update_idletasks()\n",
    "\n",
    "    def start_game(self):\n",
    "        if self.grid.size == 0: \n",
    "            \n",
    "            #Create matrix of zeros\n",
    "            row, col = self.rows, self.cols\n",
    "            self.grid_array = np.zeros(shape=(row, col), dtype='uint16') \n",
    "            self.grid = self.grid_array\n",
    "            self.fc = Function(self.grid)\n",
    "            for i in range(2):\n",
    "                self.fc.put_new_cell()\n",
    "\n",
    "            arr = self.get_state()\n",
    "            print(arr)\n",
    "            print(type(arr))\n",
    "            for i in range(arr.shape[0]):\n",
    "                for j in range(arr.shape[1]):\n",
    "                    if arr[i][j] == 2:\n",
    "                        self.cells[i][j][\"frame\"].configure(bg=c.CELL_COLORS[2])\n",
    "                        self.cells[i][j][\"number\"].configure(\n",
    "                            bg=c.CELL_COLORS[2],\n",
    "                            fg=c.CELL_NUMBER_COLORS[2],\n",
    "                            font=c.CELL_NUMBER_FONTS[2],\n",
    "                            text=\"2\"\n",
    "                        )\n",
    "\n",
    "                    elif arr[i][j] == 2:\n",
    "                        self.cells[i][j][\"frame\"].configure(bg=c.CELL_COLORS[4])\n",
    "                        self.cells[i][j][\"number\"].configure(\n",
    "                            bg=c.CELL_COLORS[4],\n",
    "                            fg=c.CELL_NUMBER_COLORS[4],\n",
    "                            font=c.CELL_NUMBER_FONTS[4],\n",
    "                            text=\"4\"\n",
    "                        )\n",
    "        else:\n",
    "            for i in range(self.grid.shape[0]):\n",
    "                for j in range(self.grid.shape[1]):\n",
    "                    cell_value = self.matrix[i][j]\n",
    "                    if cell_value == 0:\n",
    "                        self.cells[i][j][\"frame\"].configure(bg=c.EMPTY_CELL_COLOR)\n",
    "                        self.cells[i][j][\"number\"].configure(bg=c.EMPTY_CELL_COLOR, text=\"\")\n",
    "                    else:\n",
    "                        self.cells[i][j][\"frame\"].configure(bg=c.CELL_COLORS[cell_value])\n",
    "                        self.cells[i][j][\"number\"].configure(\n",
    "                            bg=c.CELL_COLORS[cell_value],\n",
    "                            fg=c.CELL_NUMBER_COLORS[cell_value],\n",
    "                            font=c.CELL_NUMBER_FONTS[cell_value],\n",
    "                            text=str(cell_value)\n",
    "                        )\n",
    "            \n",
    "\n",
    "            self.score = 0\n",
    "            self.end = False\n",
    "        \n",
    "    def game_over(self):\n",
    "        if any(2048 in row for row in self.grid):\n",
    "            game_over_frame = tk.Frame(self.main_grid, borderwidth=2)\n",
    "            game_over_frame.place(relx=0.5, rely=0.5, anchor=\"center\")\n",
    "            tk.Lable(\n",
    "                game_over_frame,\n",
    "                text=\"You win!\",\n",
    "                bg=c.WINNER_BG,\n",
    "                fg=c.GAME_OVER_FONT_COLOR,\n",
    "                font=c.GAME_OVER_FONT\n",
    "            ).pack()\n",
    "\n",
    "        elif not any(0 in row for row in self.grid) and not self.fc.prepare_next_turn():\n",
    "            game_over_frame = tk.Frame(self.main_grid, borderwidth=2)\n",
    "            game_over_frame.place(relx=0.5, rely=0.5, anchor=\"center\")\n",
    "            tk.Lable(\n",
    "                game_over_frame,\n",
    "                text=\"Game over!\",\n",
    "                bg=c.LOSER_BG,\n",
    "                fg=c.GAME_OVER_FONT_COLOR,\n",
    "                font=c.GAME_OVER_FONT\n",
    "            ).pack()\n",
    "\n",
    "    def push_left(self):\n",
    "        print(\"left\")\n",
    "        self.game_over()\n",
    "        self.fc = Function(self.grid)\n",
    "        self.grid = self.fc.stack()\n",
    "        self.grid = self.fc.combine()\n",
    "        self.grid = self.fc.stack()\n",
    "        self.update_GUI()\n",
    "        \n",
    "        \n",
    "\n",
    "    def push_right(self):\n",
    "        print(\"right\")\n",
    "        self.game_over()\n",
    "        self.fc = Function(self.grid)\n",
    "        self.grid = self.fc.reverse()\n",
    "        self.grid = self.fc.stack()\n",
    "        self.grid = self.fc.combine()\n",
    "        self.grid = self.fc.stack()\n",
    "        self.grid = self.fc.reverse()\n",
    "        self.update_GUI()\n",
    "        \n",
    "\n",
    "    def push_up(self):\n",
    "        print(\"up\")        \n",
    "        self.game_over()\n",
    "        self.fc = Function(self.grid)\n",
    "        self.grid = self.fc.transpose()\n",
    "        self.grid = self.fc.stack()\n",
    "        self.grid = self.fc.combine()\n",
    "        self.grid = self.fc.stack()\n",
    "        self.grid = self.fc.transpose()\n",
    "        self.update_GUI()\n",
    "\n",
    "    def push_down(self):\n",
    "        print(\"down\")\n",
    "        self.game_over()\n",
    "        self.fc = Function(self.grid)\n",
    "        self.grid = self.fc.transpose()\n",
    "        self.grid = self.fc.reverse()\n",
    "        self.grid = self.fc.stack()\n",
    "        self.grid = self.fc.combine()\n",
    "        self.grid = self.fc.stack()  \n",
    "        self.grid = self.fc.reverse()   \n",
    "        self.grid = self.fc.transpose()\n",
    "        self.update_GUI()\n",
    "    \n",
    "    def print_grid(self):\n",
    "        \"\"\"Print a pretty grid to the screen.\"\"\"\n",
    "        print(\"\")\n",
    "        wall = \"+------\"*self.grid.shape[1]+\"+\"\n",
    "        print(wall)\n",
    "        for i in range(self.grid.shape[0]):\n",
    "            meat = \"|\".join(\"{:^6}\".format(self.grid[i,j]) for j in range(self.grid.shape[1]))\n",
    "            print(\"|{}|\".format(meat))\n",
    "            print(wall)\n",
    "    \n"
   ]
  },
  {
   "cell_type": "code",
   "execution_count": 5,
   "id": "774cd3cf-b60d-4358-84c9-471d3281836f",
   "metadata": {},
   "outputs": [
    {
     "name": "stdout",
     "output_type": "stream",
     "text": [
      "[[2 0 0 0]\n",
      " [0 0 0 0]\n",
      " [0 0 2 0]\n",
      " [0 0 0 0]]\n",
      "<class 'numpy.ndarray'>\n",
      "left\n",
      "right\n",
      "up\n",
      "down\n"
     ]
    },
    {
     "name": "stderr",
     "output_type": "stream",
     "text": [
      "2021-07-13 14:53:46.025 Python[1117:33832] ApplePersistenceIgnoreState: Existing state will not be touched. New state will be written to (null)\n"
     ]
    }
   ],
   "source": [
    "game = Game()"
   ]
  },
  {
   "cell_type": "code",
   "execution_count": 119,
   "id": "e76df692-b166-4bd0-a57e-6fe7e14f494a",
   "metadata": {},
   "outputs": [
    {
     "data": {
      "text/plain": [
       "array([[ 0,  0,  0,  4],\n",
       "       [ 0,  0,  2,  8],\n",
       "       [ 2,  4,  8, 16],\n",
       "       [ 2,  8, 16, 32]])"
      ]
     },
     "execution_count": 119,
     "metadata": {},
     "output_type": "execute_result"
    }
   ],
   "source": [
    "game.create_state(np.array([[ 0,  0,  0,  4],\n",
    "                           [ 0,  0,  2,  8],\n",
    "                           [ 2, 4, 8,  16],\n",
    "                           [ 2,  8,  16,  32]]))"
   ]
  },
  {
   "cell_type": "code",
   "execution_count": 6,
   "id": "af4bbd4a-07d1-40fd-9dba-499599742ae8",
   "metadata": {},
   "outputs": [
    {
     "data": {
      "text/plain": [
       "array([[0, 0, 0, 0],\n",
       "       [0, 0, 0, 0],\n",
       "       [0, 0, 0, 0],\n",
       "       [0, 4, 4, 8]], dtype=uint16)"
      ]
     },
     "execution_count": 6,
     "metadata": {},
     "output_type": "execute_result"
    }
   ],
   "source": [
    "game.get_state()"
   ]
  },
  {
   "cell_type": "code",
   "execution_count": 121,
   "id": "8e003ba6-945d-438f-be5e-732ad2d383ea",
   "metadata": {},
   "outputs": [
    {
     "name": "stdout",
     "output_type": "stream",
     "text": [
      "right\n"
     ]
    }
   ],
   "source": [
    "game.move(\"<Right>\")"
   ]
  },
  {
   "cell_type": "code",
   "execution_count": 122,
   "id": "8456288b-ca4a-480a-ab42-f2e2c3dbae6a",
   "metadata": {},
   "outputs": [
    {
     "data": {
      "text/plain": [
       "array([[ 0,  0,  2,  4],\n",
       "       [ 0,  0,  2,  8],\n",
       "       [ 2,  4,  8, 16],\n",
       "       [ 2,  8, 16, 32]], dtype=uint16)"
      ]
     },
     "execution_count": 122,
     "metadata": {},
     "output_type": "execute_result"
    }
   ],
   "source": [
    "game.get_state()"
   ]
  },
  {
   "cell_type": "code",
   "execution_count": 123,
   "id": "2fffd9e1-15a5-4f9d-9c52-1c574445a601",
   "metadata": {},
   "outputs": [
    {
     "name": "stdout",
     "output_type": "stream",
     "text": [
      "left\n"
     ]
    }
   ],
   "source": [
    "game.move(\"<Left>\")"
   ]
  },
  {
   "cell_type": "code",
   "execution_count": 124,
   "id": "c085bcb3-fe30-4f68-be8d-174c7679a9bc",
   "metadata": {},
   "outputs": [
    {
     "data": {
      "text/plain": [
       "array([[ 2,  4,  0,  0],\n",
       "       [ 4,  8,  0,  0],\n",
       "       [ 2,  4,  8, 16],\n",
       "       [ 2,  8, 16, 32]], dtype=uint16)"
      ]
     },
     "execution_count": 124,
     "metadata": {},
     "output_type": "execute_result"
    }
   ],
   "source": [
    "game.get_state()"
   ]
  },
  {
   "cell_type": "code",
   "execution_count": 125,
   "id": "e66c8b8e-7c85-4c5d-b246-aead557b7fd9",
   "metadata": {},
   "outputs": [
    {
     "name": "stdout",
     "output_type": "stream",
     "text": [
      "\n",
      "+------+------+------+------+\n",
      "|  2   |  4   |  0   |  0   |\n",
      "+------+------+------+------+\n",
      "|  4   |  8   |  0   |  0   |\n",
      "+------+------+------+------+\n",
      "|  2   |  4   |  8   |  16  |\n",
      "+------+------+------+------+\n",
      "|  2   |  8   |  16  |  32  |\n",
      "+------+------+------+------+\n"
     ]
    }
   ],
   "source": [
    "game.print_grid()"
   ]
  }
 ],
 "metadata": {
  "kernelspec": {
   "display_name": "Python 3 (ipykernel)",
   "language": "python",
   "name": "python3"
  },
  "language_info": {
   "codemirror_mode": {
    "name": "ipython",
    "version": 3
   },
   "file_extension": ".py",
   "mimetype": "text/x-python",
   "name": "python",
   "nbconvert_exporter": "python",
   "pygments_lexer": "ipython3",
   "version": "3.9.5"
  }
 },
 "nbformat": 4,
 "nbformat_minor": 5
}
