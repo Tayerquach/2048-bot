{
 "cells": [
  {
   "cell_type": "code",
   "execution_count": 1,
   "id": "a8f2c44f-52d3-47b6-b842-3ca5554cb529",
   "metadata": {},
   "outputs": [],
   "source": [
    "new = []\n",
    "for i in range(4):\n",
    "    partial_new = []\n",
    "    for i in range(4):\n",
    "        partial_new.append(0)\n",
    "    new.append(partial_new)\n",
    "        "
   ]
  },
  {
   "cell_type": "code",
   "execution_count": 2,
   "id": "7f37186d-56a1-4342-aa63-d8257ac1f1f0",
   "metadata": {},
   "outputs": [
    {
     "data": {
      "text/plain": [
       "[[0, 0, 0, 0], [0, 0, 0, 0], [0, 0, 0, 0], [0, 0, 0, 0]]"
      ]
     },
     "execution_count": 2,
     "metadata": {},
     "output_type": "execute_result"
    }
   ],
   "source": [
    "new"
   ]
  },
  {
   "cell_type": "code",
   "execution_count": 6,
   "id": "9eb6c54b-165c-49e1-a008-9592fa084a84",
   "metadata": {},
   "outputs": [],
   "source": [
    "new = [[0] * 4 for _ in range(4)]"
   ]
  },
  {
   "cell_type": "code",
   "execution_count": 7,
   "id": "22d65fe9-e53b-44aa-b4d4-af1067ac7fa8",
   "metadata": {},
   "outputs": [
    {
     "data": {
      "text/plain": [
       "[[0, 0, 0, 0], [0, 0, 0, 0], [0, 0, 0, 0], [0, 0, 0, 0]]"
      ]
     },
     "execution_count": 7,
     "metadata": {},
     "output_type": "execute_result"
    }
   ],
   "source": [
    "new"
   ]
  },
  {
   "cell_type": "code",
   "execution_count": 31,
   "id": "3b931b56-017d-4fd4-b048-36d38789e2fe",
   "metadata": {},
   "outputs": [
    {
     "name": "stdout",
     "output_type": "stream",
     "text": [
      "0 0\n",
      "0 3\n",
      "0 1\n",
      "0 1\n",
      "1 2\n"
     ]
    }
   ],
   "source": [
    "n = 4\n",
    "matrix = [[0, 0, 0, 0], [2, 0, 0, 2], [0, 4, 0, 0], [0, 2, 8, 0]]\n",
    "new = [[0] * n for _ in range(n)]\n",
    "for i in range(n):\n",
    "    count = 0\n",
    "    for j in range(n):\n",
    "        if matrix[i][j] != 0:\n",
    "            print(count, j)\n",
    "            new[i][count] = matrix[i][j]\n",
    "            if j != count:\n",
    "                done = True\n",
    "            count += 1"
   ]
  },
  {
   "cell_type": "code",
   "execution_count": 32,
   "id": "0ebe5f9d-ab21-4a29-9cc8-7d38bf6eed11",
   "metadata": {},
   "outputs": [
    {
     "data": {
      "text/plain": [
       "[[0, 0, 0, 0], [2, 0, 0, 0], [4, 0, 0, 0], [2, 8, 0, 0]]"
      ]
     },
     "execution_count": 32,
     "metadata": {},
     "output_type": "execute_result"
    }
   ],
   "source": [
    "new"
   ]
  },
  {
   "cell_type": "code",
   "execution_count": null,
   "id": "01cdbf11-bf18-420f-9a8c-ac9c8c1be1a7",
   "metadata": {},
   "outputs": [],
   "source": []
  }
 ],
 "metadata": {
  "kernelspec": {
   "display_name": "Python 3 (ipykernel)",
   "language": "python",
   "name": "python3"
  },
  "language_info": {
   "codemirror_mode": {
    "name": "ipython",
    "version": 3
   },
   "file_extension": ".py",
   "mimetype": "text/x-python",
   "name": "python",
   "nbconvert_exporter": "python",
   "pygments_lexer": "ipython3",
   "version": "3.9.5"
  }
 },
 "nbformat": 4,
 "nbformat_minor": 5
}
