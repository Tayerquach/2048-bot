{
 "cells": [
  {
   "cell_type": "code",
   "execution_count": 1,
   "id": "53ad4895-bc0b-4acf-bc1d-37743d56d598",
   "metadata": {},
   "outputs": [],
   "source": [
    "from game import Game\n",
    "from agent import BFSAgent\n",
    "import numpy as np\n",
    "import helper\n",
    "import time\n",
    "import constants as c\n",
    "from tqdm import tqdm"
   ]
  },
  {
   "cell_type": "code",
   "execution_count": 35,
   "id": "18363e4b-297a-430f-ad1a-b3268d315c78",
   "metadata": {},
   "outputs": [
    {
     "output_type": "stream",
     "name": "stderr",
     "text": [
      "Loading...:   0%|          | 0/2 [00:00<?, ?it/s]\n",
      "+------+------+------+------+\n",
      "|  2   |  0   |  0   |  0   |\n",
      "+------+------+------+------+\n",
      "|  0   |  0   |  0   |  0   |\n",
      "+------+------+------+------+\n",
      "|  0   |  0   |  0   |  0   |\n",
      "+------+------+------+------+\n",
      "|  0   |  0   |  2   |  0   |\n",
      "+------+------+------+------+\n",
      "Loading...:   0%|          | 0/2 [02:08<?, ?it/s]\n"
     ]
    },
    {
     "output_type": "error",
     "ename": "KeyError",
     "evalue": "32",
     "traceback": [
      "\u001b[0;31m---------------------------------------------------------------------------\u001b[0m",
      "\u001b[0;31mKeyError\u001b[0m                                  Traceback (most recent call last)",
      "\u001b[0;32m/var/folders/rk/js5rr9_10752rn233ckgzp6r0000gn/T/ipykernel_980/268291920.py\u001b[0m in \u001b[0;36m<module>\u001b[0;34m\u001b[0m\n\u001b[1;32m      9\u001b[0m         \u001b[0mstate\u001b[0m \u001b[0;34m=\u001b[0m \u001b[0;34m[\u001b[0m\u001b[0mcurrent_state\u001b[0m\u001b[0;34m,\u001b[0m \u001b[0;36m0\u001b[0m\u001b[0;34m,\u001b[0m \u001b[0;34m[\u001b[0m\u001b[0;34m]\u001b[0m\u001b[0;34m]\u001b[0m\u001b[0;34m\u001b[0m\u001b[0;34m\u001b[0m\u001b[0m\n\u001b[1;32m     10\u001b[0m         \u001b[0maction\u001b[0m \u001b[0;34m=\u001b[0m \u001b[0magent\u001b[0m\u001b[0;34m.\u001b[0m\u001b[0msearch_action\u001b[0m\u001b[0;34m(\u001b[0m\u001b[0mstate\u001b[0m\u001b[0;34m,\u001b[0m \u001b[0;36m6\u001b[0m\u001b[0;34m)\u001b[0m\u001b[0;34m[\u001b[0m\u001b[0;36m0\u001b[0m\u001b[0;34m]\u001b[0m \u001b[0;31m#depth = 6\u001b[0m\u001b[0;34m\u001b[0m\u001b[0;34m\u001b[0m\u001b[0m\n\u001b[0;32m---> 11\u001b[0;31m         \u001b[0mmatrix\u001b[0m\u001b[0;34m,\u001b[0m \u001b[0mdone\u001b[0m\u001b[0;34m,\u001b[0m \u001b[0mscore\u001b[0m \u001b[0;34m=\u001b[0m \u001b[0mcommands\u001b[0m\u001b[0;34m[\u001b[0m\u001b[0maction\u001b[0m\u001b[0;34m]\u001b[0m\u001b[0;34m(\u001b[0m\u001b[0mcurrent_state\u001b[0m\u001b[0;34m)\u001b[0m\u001b[0;34m\u001b[0m\u001b[0;34m\u001b[0m\u001b[0m\n\u001b[0m\u001b[1;32m     12\u001b[0m         \u001b[0;32mif\u001b[0m \u001b[0mdone\u001b[0m\u001b[0;34m:\u001b[0m\u001b[0;34m\u001b[0m\u001b[0;34m\u001b[0m\u001b[0m\n\u001b[1;32m     13\u001b[0m             \u001b[0menvironment\u001b[0m\u001b[0;34m.\u001b[0m\u001b[0mcreate_state\u001b[0m\u001b[0;34m(\u001b[0m\u001b[0mmatrix\u001b[0m\u001b[0;34m)\u001b[0m\u001b[0;34m\u001b[0m\u001b[0;34m\u001b[0m\u001b[0m\n",
      "\u001b[0;31mKeyError\u001b[0m: 32"
     ]
    }
   ],
   "source": [
    "commands = {c.KEY_UP_ALT: helper.up, c.KEY_DOWN_ALT: helper.down,\n",
    "                    c.KEY_LEFT_ALT: helper.left, c.KEY_RIGHT_ALT: helper.right}\n",
    "max_values = []\n",
    "for depth in range(1,8):\n",
    "    for i in tqdm(range(50), desc=\"Loading...\"):\n",
    "        environment = Game()\n",
    "        agent = BFSAgent()\n",
    "        status = \"not over'\"\n",
    "        while status != \"lose\":\n",
    "            current_state = environment.get_state()\n",
    "            status = helper.game_state(current_state)\n",
    "            state = [current_state, 0, []]\n",
    "            action = agent.search_action(state, depth)[0] \n",
    "            temp_state, done, _ = environment.give_action(action)\n",
    "            \n",
    "            if done:\n",
    "                continue\n",
    "            else:\n",
    "                for move in commands.keys():\n",
    "                    temp_state, done, _ = environment.give_action(move)\n",
    "                    if done:\n",
    "                        break\n",
    "            \n",
    "        max_value =  np.max(environment.get_state())  \n",
    "        max_values.append(max_value)\n",
    "        print(f\"Maximum value for epoch {i}: \" + str(max_value))\n",
    "    print(f\"Average maximum score for depth {depth}: \" + str(np.average(max_values)))"
   ]
  },
  {
   "cell_type": "code",
   "execution_count": 36,
   "metadata": {},
   "outputs": [
    {
     "output_type": "execute_result",
     "data": {
      "text/plain": [
       "array([[ 16,  64,   8,   2],\n",
       "       [  4, 256,  16,  64],\n",
       "       [ 32,  16, 128,   4],\n",
       "       [  2,   8,  16,   0]])"
      ]
     },
     "metadata": {},
     "execution_count": 36
    }
   ],
   "source": [
    "environment.get_state()"
   ]
  },
  {
   "cell_type": "code",
   "execution_count": 30,
   "metadata": {},
   "outputs": [
    {
     "output_type": "execute_result",
     "data": {
      "text/plain": [
       "'lose'"
      ]
     },
     "metadata": {},
     "execution_count": 30
    }
   ],
   "source": [
    "helper.game_state(environment.get_state())"
   ]
  },
  {
   "cell_type": "code",
   "execution_count": 41,
   "metadata": {},
   "outputs": [],
   "source": [
    "commands = {c.KEY_UP_ALT: helper.up, c.KEY_DOWN_ALT: helper.down,\n",
    "                    c.KEY_LEFT_ALT: helper.left, c.KEY_RIGHT_ALT: helper.right}"
   ]
  },
  {
   "cell_type": "code",
   "execution_count": 42,
   "metadata": {},
   "outputs": [
    {
     "output_type": "execute_result",
     "data": {
      "text/plain": [
       "dict_keys([\"'\\\\uf700'\", \"'\\\\uf701'\", \"'\\\\uf702'\", \"'\\\\uf703'\"])"
      ]
     },
     "metadata": {},
     "execution_count": 42
    }
   ],
   "source": [
    "commands.keys()"
   ]
  },
  {
   "cell_type": "code",
   "execution_count": 43,
   "metadata": {},
   "outputs": [
    {
     "output_type": "stream",
     "name": "stdout",
     "text": [
      "'\\uf700'\n'\\uf701'\n'\\uf702'\n'\\uf703'\n"
     ]
    }
   ],
   "source": [
    "for move in commands.keys():\n",
    "    print(move)"
   ]
  },
  {
   "cell_type": "code",
   "execution_count": 44,
   "metadata": {},
   "outputs": [],
   "source": [
    "a = np.array([[2,2,16,2],[4,16,128,64],[8,4,8,2],[256,8,4,8]])"
   ]
  },
  {
   "cell_type": "code",
   "execution_count": 45,
   "metadata": {},
   "outputs": [
    {
     "output_type": "stream",
     "name": "stdout",
     "text": [
      "\n+------+------+------+------+\n|  0   |  2   |  0   |  0   |\n+------+------+------+------+\n|  0   |  0   |  2   |  0   |\n+------+------+------+------+\n|  0   |  0   |  0   |  0   |\n+------+------+------+------+\n|  0   |  0   |  0   |  0   |\n+------+------+------+------+\n"
     ]
    }
   ],
   "source": [
    "game = Game()"
   ]
  },
  {
   "cell_type": "code",
   "execution_count": 46,
   "metadata": {},
   "outputs": [
    {
     "output_type": "execute_result",
     "data": {
      "text/plain": [
       "array([[  2,   2,  16,   2],\n",
       "       [  4,  16, 128,  64],\n",
       "       [  8,   4,   8,   2],\n",
       "       [256,   8,   4,   8]])"
      ]
     },
     "metadata": {},
     "execution_count": 46
    }
   ],
   "source": [
    "game.create_state(a)"
   ]
  },
  {
   "cell_type": "code",
   "execution_count": null,
   "metadata": {},
   "outputs": [],
   "source": [
    "game.give_action()"
   ]
  }
 ],
 "metadata": {
  "kernelspec": {
   "name": "python3",
   "display_name": "Python 3.9.5 64-bit",
   "metadata": {
    "interpreter": {
     "hash": "b694e184ab59b6b0d17f98adbc89c259efff9a9414d3f3ae8a63cb70de076e39"
    }
   }
  },
  "language_info": {
   "codemirror_mode": {
    "name": "ipython",
    "version": 3
   },
   "file_extension": ".py",
   "mimetype": "text/x-python",
   "name": "python",
   "nbconvert_exporter": "python",
   "pygments_lexer": "ipython3",
   "version": "3.9.5"
  }
 },
 "nbformat": 4,
 "nbformat_minor": 5
}